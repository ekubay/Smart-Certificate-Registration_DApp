{
 "cells": [
  {
   "cell_type": "code",
   "execution_count": 1,
   "metadata": {},
   "outputs": [
    {
     "name": "stdout",
     "output_type": "stream",
     "text": [
      "My address: YAC34XJHCG52YWFDQRHPGL4VJPDJZPPERU4MZKUUOWOJJK2QUSLD46XSWI\n",
      "My private key: Q36Qp7QgBls01hy+7VajNXxpnCq6OvFWKkaaWPELAwrABb5dJxG7rFijhE7zL5VLxpy95I04zKqUdZyUq1Cklg==\n",
      "My passphrase: silent draft fatigue area arrange bitter random broom result forum spider select spray poem spend deny taste power cart meadow tired seed exotic abandon grit\n"
     ]
    }
   ],
   "source": [
    "import json\n",
    "import base64\n",
    "from algosdk import account, mnemonic, constants\n",
    "from algosdk.v2client import algod\n",
    "from algosdk.future import transaction\n",
    "\n",
    "def generate_algorand_keypair():\n",
    "    private_key, address = account.generate_account()\n",
    "    print(\"My address: {}\".format(address))\n",
    "    print(\"My private key: {}\".format(private_key))\n",
    "    print(\"My passphrase: {}\".format(mnemonic.from_private_key(private_key)))\n",
    "\n",
    "# Write down the address, private key, and the passphrase for later usage\n",
    "generate_algorand_keypair()"
   ]
  },
  {
   "cell_type": "code",
   "execution_count": 3,
   "metadata": {},
   "outputs": [],
   "source": [
    "# first trasaction\n",
    "def first_transaction_example(private_key, my_address):\n",
    "    algod_address = \"http://localhost:4001\"\n",
    "    algod_token = \"aaaaaaaaaaaaaaaaaaaaaaaaaaaaaaaaaaaaaaaaaaaaaaaaaaaaaaaaaaaaaaaa\"\n",
    "    algod_client = algod.AlgodClient(algod_token, algod_address)\n",
    "\n",
    "    print(\"My address: {}\".format(my_address))\n",
    "    account_info = algod_client.account_info(my_address)\n",
    "    print(\"Account balance: {} microAlgos\".format(account_info.get('amount')))\n",
    "\n",
    "    # build transaction\n",
    "    params = algod_client.suggested_params()\n",
    "    # comment out the next two (2) lines to use suggested fees\n",
    "    params.flat_fee = constants.MIN_TXN_FEE \n",
    "    params.fee = 1000\n",
    "    receiver = \"HZ57J3K46JIJXILONBBZOHX6BKPXEM2VVXNRFSUED6DKFD5ZD24PMJ3MVA\"\n",
    "    amount = 100000\n",
    "    note = \"Hello World\".encode()\n",
    "\n",
    "    unsigned_txn = transaction.PaymentTxn(my_address, params, receiver, amount, None, note)\n",
    "\n",
    "    # sign transaction\n",
    "    signed_txn = unsigned_txn.sign(private_key)\n",
    "\n",
    "    # submit transaction\n",
    "    txid = algod_client.send_transaction(signed_txn)\n",
    "    print(\"Signed transaction with txID: {}\".format(txid))\n",
    "\n",
    "    # wait for confirmation \n",
    "    try:\n",
    "        confirmed_txn = transaction.wait_for_confirmation(algod_client, txid, 4)  \n",
    "    except Exception as err:\n",
    "        print(err)\n",
    "        return\n",
    "\n",
    "    print(\"Transaction information: {}\".format(\n",
    "        json.dumps(confirmed_txn, indent=4)))\n",
    "    print(\"Decoded note: {}\".format(base64.b64decode(\n",
    "        confirmed_txn[\"txn\"][\"txn\"][\"note\"]).decode()))\n",
    "\n",
    "    print(\"Starting Account balance: {} microAlgos\".format(account_info.get('amount')) )\n",
    "    print(\"Amount transfered: {} microAlgos\".format(amount) )    \n",
    "    print(\"Fee: {} microAlgos\".format(params.fee) ) \n",
    "\n",
    "\n",
    "    account_info = algod_client.account_info(my_address)\n",
    "    print(\"Final Account balance: {} microAlgos\".format(account_info.get('amount')) + \"\\n\")"
   ]
  },
  {
   "cell_type": "code",
   "execution_count": 9,
   "metadata": {},
   "outputs": [],
   "source": [
    "mnemonic_key =\"sauce usage over saddle pole win burden jealous laugh side enrich basic rocket slim century tail denial oyster soap illegal voyage arena slow above outside\""
   ]
  },
  {
   "cell_type": "code",
   "execution_count": 10,
   "metadata": {},
   "outputs": [],
   "source": [
    "# address\n",
    "my_address = mnemonic.to_private_key(mnemonic_key)\n",
    "private_key = mnemonic.to_public_key(mnemonic_key)\n"
   ]
  },
  {
   "cell_type": "code",
   "execution_count": 12,
   "metadata": {},
   "outputs": [],
   "source": [
    "# replace private_key and my_address with your private key and your address.\n",
    "first_transaction_example(private_key, my_address)"
   ]
  },
  {
   "cell_type": "code",
   "execution_count": null,
   "metadata": {},
   "outputs": [],
   "source": []
  },
  {
   "cell_type": "code",
   "execution_count": null,
   "metadata": {},
   "outputs": [],
   "source": []
  }
 ],
 "metadata": {
  "kernelspec": {
   "display_name": "Python 3.8.3 ('base')",
   "language": "python",
   "name": "python3"
  },
  "language_info": {
   "codemirror_mode": {
    "name": "ipython",
    "version": 3
   },
   "file_extension": ".py",
   "mimetype": "text/x-python",
   "name": "python",
   "nbconvert_exporter": "python",
   "pygments_lexer": "ipython3",
   "version": "3.8.3"
  },
  "orig_nbformat": 4,
  "vscode": {
   "interpreter": {
    "hash": "0b6ee45c0530d00bd9ce3b24e915dd77806354f7ba58bdfbe06eaf4782981504"
   }
  }
 },
 "nbformat": 4,
 "nbformat_minor": 2
}
