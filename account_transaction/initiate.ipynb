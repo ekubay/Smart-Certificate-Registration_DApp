{
 "cells": [
  {
   "cell_type": "code",
   "execution_count": 2,
   "metadata": {},
   "outputs": [
    {
     "ename": "SyntaxError",
     "evalue": "invalid syntax (3771177581.py, line 1)",
     "output_type": "error",
     "traceback": [
      "\u001b[0;36m  Cell \u001b[0;32mIn [2], line 1\u001b[0;36m\u001b[0m\n\u001b[0;31m    import WalletConnect from \"@walletconnect/client\";\u001b[0m\n\u001b[0m                         ^\u001b[0m\n\u001b[0;31mSyntaxError\u001b[0m\u001b[0;31m:\u001b[0m invalid syntax\n"
     ]
    }
   ],
   "source": [
    "import WalletConnect from \"@walletconnect/client\";\n",
    "import QRCodeModal from \"algorand-walletconnect-qrcode-modal\";\n",
    "import algosdk from \"algosdk\";\n",
    "import { formatJsonRpcRequest } from \"@json-rpc-tools/utils\";\n",
    "\n",
    "#Create a connector\n",
    "const connector = new WalletConnect({\n",
    "  bridge: \"https://bridge.walletconnect.org\", // Required\n",
    "  qrcodeModal: QRCodeModal,\n",
    "});\n",
    "\n",
    "#Check if connection is already established\n",
    "if (!connector.connected) {\n",
    "  // create new session\n",
    "  connector.createSession();\n",
    "}\n",
    "\n",
    "// Subscribe to connection events\n",
    "connector.on(\"connect\", (error, payload) => {\n",
    "  if (error) {\n",
    "    throw error;\n",
    "  }\n",
    "\n",
    "  // Get provided accounts\n",
    "  const { accounts } = payload.params[0];\n",
    "});\n",
    "\n",
    "connector.on(\"session_update\", (error, payload) => {\n",
    "  if (error) {\n",
    "    throw error;\n",
    "  }\n",
    "\n",
    "  // Get updated accounts \n",
    "  const { accounts } = payload.params[0];\n",
    "});\n",
    "\n",
    "connector.on(\"disconnect\", (error, payload) => {\n",
    "  if (error) {\n",
    "    throw error;\n",
    "  }\n",
    "});"
   ]
  },
  {
   "cell_type": "code",
   "execution_count": null,
   "metadata": {},
   "outputs": [],
   "source": [
    "# sign the first transaction\n",
    "#Draft transaction\n",
    "const txn = algosdk.makePaymentTxnWithSuggestedParamsFromObject({\n",
    "    from: \"ALICEU3WMO5XYJVSODKJSYLFILIXXBEXHKIVSMX7GMGXJAYGFCJKVSQTUE\",\n",
    "    to: \"HZ57J3K46JIJXILONBBZOHX6BKPXEM2VVXNRFSUED6DKFD5ZD24PMJ3MVA\",\n",
    "    amount: 100000,\n",
    "    suggestedParams,\n",
    "});\n",
    "\n",
    "#Sign transaction\n",
    "#txns is an array of algosdk.Transaction like below\n",
    "#i.e txns = [txn, ...someotherTxns], but we've only built one transaction in our case\n",
    "const txns = [txn]\n",
    "const txnsToSign = txns.map(txn => {\n",
    "  const encodedTxn = Buffer.from(algosdk.encodeUnsignedTransaction(txn)).toString(\"base64\");\n",
    "\n",
    "  return {\n",
    "    txn: encodedTxn,\n",
    "    message: 'Description of transaction being signed',\n",
    "    // Note: if the transaction does not need to be signed (because it's part of an atomic group\n",
    "    // that will be signed by another party), specify an empty singers array like so:\n",
    "    // signers: [],\n",
    "  };\n",
    "});\n",
    "\n",
    "const requestParams = [txnsToSign];\n",
    "\n",
    "const request = formatJsonRpcRequest(\"algo_signTxn\", requestParams);\n",
    "const result: Array<string | null> = await this.connector.sendCustomRequest(request);\n",
    "const decodedResult = result.map(element => {\n",
    "  return element ? new Uint8Array(Buffer.from(element, \"base64\")) : null;\n",
    "});"
   ]
  }
 ],
 "metadata": {
  "kernelspec": {
   "display_name": "Python 3.8.3 ('env': venv)",
   "language": "python",
   "name": "python3"
  },
  "language_info": {
   "codemirror_mode": {
    "name": "ipython",
    "version": 3
   },
   "file_extension": ".py",
   "mimetype": "text/x-python",
   "name": "python",
   "nbconvert_exporter": "python",
   "pygments_lexer": "ipython3",
   "version": "3.8.3"
  },
  "orig_nbformat": 4,
  "vscode": {
   "interpreter": {
    "hash": "acad2f981fab5c1b94e5ad350283be7dae85c519e571f1ef7609c99695e693f6"
   }
  }
 },
 "nbformat": 4,
 "nbformat_minor": 2
}
